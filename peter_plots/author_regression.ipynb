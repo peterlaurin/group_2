{
 "cells": [
  {
   "cell_type": "markdown",
   "metadata": {},
   "source": [
    "### Exploring gender through authorship and journal information\n",
    "Author: Peter Laurin\n",
    "This is a brief exploration into what variables we've collected, and how they might predict author gender in our data. "
   ]
  },
  {
   "cell_type": "code",
   "execution_count": 4,
   "metadata": {},
   "outputs": [],
   "source": [
    "import numpy as np\n",
    "import scipy\n",
    "import pandas as pd\n",
    "import sqlite3"
   ]
  },
  {
   "cell_type": "markdown",
   "metadata": {},
   "source": [
    "First, to view our variables (as a pandas dataframe)"
   ]
  },
  {
   "cell_type": "code",
   "execution_count": 5,
   "metadata": {},
   "outputs": [],
   "source": [
    "conn = sqlite3.connect('journals.db')\n",
    "sql_text = 'SELECT first_name, last_name, institution, gender, country, field, rank, num_authors FROM authors JOIN papers JOIN author_key_rank ON author_key_rank.author_identifier = authors.author_identifier AND author_key_rank.paper_identifier = papers.paper_identifier;'\n",
    "author_frame = pd.read_sql_query(sql_text, conn)"
   ]
  },
  {
   "cell_type": "markdown",
   "metadata": {},
   "source": [
    "Should be set"
   ]
  },
  {
   "cell_type": "code",
   "execution_count": 6,
   "metadata": {
    "scrolled": true
   },
   "outputs": [
    {
     "data": {
      "text/html": [
       "<div>\n",
       "<style scoped>\n",
       "    .dataframe tbody tr th:only-of-type {\n",
       "        vertical-align: middle;\n",
       "    }\n",
       "\n",
       "    .dataframe tbody tr th {\n",
       "        vertical-align: top;\n",
       "    }\n",
       "\n",
       "    .dataframe thead th {\n",
       "        text-align: right;\n",
       "    }\n",
       "</style>\n",
       "<table border=\"1\" class=\"dataframe\">\n",
       "  <thead>\n",
       "    <tr style=\"text-align: right;\">\n",
       "      <th></th>\n",
       "      <th>first_name</th>\n",
       "      <th>last_name</th>\n",
       "      <th>institution</th>\n",
       "      <th>gender</th>\n",
       "      <th>country</th>\n",
       "      <th>field</th>\n",
       "      <th>rank</th>\n",
       "      <th>num_authors</th>\n",
       "    </tr>\n",
       "  </thead>\n",
       "  <tbody>\n",
       "    <tr>\n",
       "      <th>0</th>\n",
       "      <td>Diego R.</td>\n",
       "      <td>Barneche</td>\n",
       "      <td>indian ocean marine research centre</td>\n",
       "      <td>boy</td>\n",
       "      <td>australia</td>\n",
       "      <td>biological-sciences</td>\n",
       "      <td>1</td>\n",
       "      <td>7</td>\n",
       "    </tr>\n",
       "    <tr>\n",
       "      <th>1</th>\n",
       "      <td>Chris J.</td>\n",
       "      <td>Hulatt</td>\n",
       "      <td>queen mary university of london</td>\n",
       "      <td>gender neutral</td>\n",
       "      <td>uk</td>\n",
       "      <td>biological-sciences</td>\n",
       "      <td>2</td>\n",
       "      <td>7</td>\n",
       "    </tr>\n",
       "    <tr>\n",
       "      <th>2</th>\n",
       "      <td>Matteo</td>\n",
       "      <td>Dossena</td>\n",
       "      <td>queen mary university of london</td>\n",
       "      <td>boy</td>\n",
       "      <td>uk</td>\n",
       "      <td>biological-sciences</td>\n",
       "      <td>3</td>\n",
       "      <td>7</td>\n",
       "    </tr>\n",
       "    <tr>\n",
       "      <th>3</th>\n",
       "      <td>Daniel</td>\n",
       "      <td>Padfield</td>\n",
       "      <td>university of exeter</td>\n",
       "      <td>boy</td>\n",
       "      <td>uk</td>\n",
       "      <td>biological-sciences</td>\n",
       "      <td>4</td>\n",
       "      <td>7</td>\n",
       "    </tr>\n",
       "    <tr>\n",
       "      <th>4</th>\n",
       "      <td>Guy</td>\n",
       "      <td>Woodward</td>\n",
       "      <td>imperial college london</td>\n",
       "      <td>boy</td>\n",
       "      <td>uk</td>\n",
       "      <td>biological-sciences</td>\n",
       "      <td>5</td>\n",
       "      <td>7</td>\n",
       "    </tr>\n",
       "  </tbody>\n",
       "</table>\n",
       "</div>"
      ],
      "text/plain": [
       "  first_name last_name                          institution          gender  \\\n",
       "0   Diego R.  Barneche  indian ocean marine research centre             boy   \n",
       "1   Chris J.    Hulatt      queen mary university of london  gender neutral   \n",
       "2     Matteo   Dossena      queen mary university of london             boy   \n",
       "3     Daniel  Padfield                 university of exeter             boy   \n",
       "4        Guy  Woodward              imperial college london             boy   \n",
       "\n",
       "     country                field  rank  num_authors  \n",
       "0  australia  biological-sciences     1            7  \n",
       "1         uk  biological-sciences     2            7  \n",
       "2         uk  biological-sciences     3            7  \n",
       "3         uk  biological-sciences     4            7  \n",
       "4         uk  biological-sciences     5            7  "
      ]
     },
     "execution_count": 6,
     "metadata": {},
     "output_type": "execute_result"
    }
   ],
   "source": [
    "author_frame[:5]"
   ]
  },
  {
   "cell_type": "markdown",
   "metadata": {},
   "source": [
    "Now, only including authors that go to large institutions (reduces number of variables and removes low_quality data)"
   ]
  },
  {
   "cell_type": "code",
   "execution_count": 7,
   "metadata": {},
   "outputs": [],
   "source": [
    "inst_count = author_frame.groupby('institution').count().sort_values(by = 'num_authors', ascending=False).iloc[:,-1:]\n",
    "large_institutions = inst_count[inst_count['num_authors'] > 10].index"
   ]
  },
  {
   "cell_type": "code",
   "execution_count": 8,
   "metadata": {},
   "outputs": [],
   "source": [
    "author_frame = author_frame[author_frame['institution'].isin(large_institutions)]"
   ]
  },
  {
   "cell_type": "markdown",
   "metadata": {},
   "source": [
    "Got rid of about 15,000 authors, but we have a large dataset still (60,000 authors) , and this is an acceptable loss, as it would have been hard to get around issues of multicollinearity, etc. I would also filter by country having > 10 authors, but this should already be done by institution. \n",
    "\n",
    "Now to determine author ranking. We want to reduce the number of variables in rank to be a categorial variable of 'first author', 'middle_author' or 'last_author' instead of the regression interpreting it as a numerical variable with increasing author status"
   ]
  },
  {
   "cell_type": "code",
   "execution_count": 9,
   "metadata": {
    "scrolled": false
   },
   "outputs": [],
   "source": [
    "author_frame.loc[:,'author_status'] = 'middle_author'\n",
    "author_frame.loc[author_frame['rank'] == 1, 'author_status'] = 'first_author'\n",
    "author_frame.loc[author_frame['rank'] == author_frame['num_authors'], 'author_status'] = 'last_author'"
   ]
  },
  {
   "cell_type": "code",
   "execution_count": 10,
   "metadata": {
    "scrolled": true
   },
   "outputs": [
    {
     "data": {
      "text/html": [
       "<div>\n",
       "<style scoped>\n",
       "    .dataframe tbody tr th:only-of-type {\n",
       "        vertical-align: middle;\n",
       "    }\n",
       "\n",
       "    .dataframe tbody tr th {\n",
       "        vertical-align: top;\n",
       "    }\n",
       "\n",
       "    .dataframe thead th {\n",
       "        text-align: right;\n",
       "    }\n",
       "</style>\n",
       "<table border=\"1\" class=\"dataframe\">\n",
       "  <thead>\n",
       "    <tr style=\"text-align: right;\">\n",
       "      <th></th>\n",
       "      <th>author_status</th>\n",
       "      <th>gender</th>\n",
       "      <th>institution</th>\n",
       "      <th>country</th>\n",
       "      <th>field</th>\n",
       "    </tr>\n",
       "  </thead>\n",
       "  <tbody>\n",
       "    <tr>\n",
       "      <th>1</th>\n",
       "      <td>middle_author</td>\n",
       "      <td>gender neutral</td>\n",
       "      <td>queen mary university of london</td>\n",
       "      <td>uk</td>\n",
       "      <td>biological-sciences</td>\n",
       "    </tr>\n",
       "    <tr>\n",
       "      <th>2</th>\n",
       "      <td>middle_author</td>\n",
       "      <td>boy</td>\n",
       "      <td>queen mary university of london</td>\n",
       "      <td>uk</td>\n",
       "      <td>biological-sciences</td>\n",
       "    </tr>\n",
       "    <tr>\n",
       "      <th>3</th>\n",
       "      <td>middle_author</td>\n",
       "      <td>boy</td>\n",
       "      <td>university of exeter</td>\n",
       "      <td>uk</td>\n",
       "      <td>biological-sciences</td>\n",
       "    </tr>\n",
       "    <tr>\n",
       "      <th>4</th>\n",
       "      <td>middle_author</td>\n",
       "      <td>boy</td>\n",
       "      <td>imperial college london</td>\n",
       "      <td>uk</td>\n",
       "      <td>biological-sciences</td>\n",
       "    </tr>\n",
       "    <tr>\n",
       "      <th>5</th>\n",
       "      <td>middle_author</td>\n",
       "      <td>boy</td>\n",
       "      <td>queen mary university of london</td>\n",
       "      <td>uk</td>\n",
       "      <td>biological-sciences</td>\n",
       "    </tr>\n",
       "    <tr>\n",
       "      <th>...</th>\n",
       "      <td>...</td>\n",
       "      <td>...</td>\n",
       "      <td>...</td>\n",
       "      <td>...</td>\n",
       "      <td>...</td>\n",
       "    </tr>\n",
       "    <tr>\n",
       "      <th>84070</th>\n",
       "      <td>first_author</td>\n",
       "      <td>boy</td>\n",
       "      <td></td>\n",
       "      <td>united states of america</td>\n",
       "      <td>business-and-commerce</td>\n",
       "    </tr>\n",
       "    <tr>\n",
       "      <th>84071</th>\n",
       "      <td>middle_author</td>\n",
       "      <td>boy</td>\n",
       "      <td></td>\n",
       "      <td>united states of america</td>\n",
       "      <td>business-and-commerce</td>\n",
       "    </tr>\n",
       "    <tr>\n",
       "      <th>84072</th>\n",
       "      <td>middle_author</td>\n",
       "      <td>boy</td>\n",
       "      <td></td>\n",
       "      <td>united states of america</td>\n",
       "      <td>business-and-commerce</td>\n",
       "    </tr>\n",
       "    <tr>\n",
       "      <th>84073</th>\n",
       "      <td>middle_author</td>\n",
       "      <td>girl</td>\n",
       "      <td></td>\n",
       "      <td>united states of america</td>\n",
       "      <td>business-and-commerce</td>\n",
       "    </tr>\n",
       "    <tr>\n",
       "      <th>84074</th>\n",
       "      <td>last_author</td>\n",
       "      <td>girl</td>\n",
       "      <td></td>\n",
       "      <td>united states of america</td>\n",
       "      <td>business-and-commerce</td>\n",
       "    </tr>\n",
       "  </tbody>\n",
       "</table>\n",
       "<p>63269 rows × 5 columns</p>\n",
       "</div>"
      ],
      "text/plain": [
       "       author_status          gender                      institution  \\\n",
       "1      middle_author  gender neutral  queen mary university of london   \n",
       "2      middle_author             boy  queen mary university of london   \n",
       "3      middle_author             boy             university of exeter   \n",
       "4      middle_author             boy          imperial college london   \n",
       "5      middle_author             boy  queen mary university of london   \n",
       "...              ...             ...                              ...   \n",
       "84070   first_author             boy                                    \n",
       "84071  middle_author             boy                                    \n",
       "84072  middle_author             boy                                    \n",
       "84073  middle_author            girl                                    \n",
       "84074    last_author            girl                                    \n",
       "\n",
       "                        country                  field  \n",
       "1                            uk    biological-sciences  \n",
       "2                            uk    biological-sciences  \n",
       "3                            uk    biological-sciences  \n",
       "4                            uk    biological-sciences  \n",
       "5                            uk    biological-sciences  \n",
       "...                         ...                    ...  \n",
       "84070  united states of america  business-and-commerce  \n",
       "84071  united states of america  business-and-commerce  \n",
       "84072  united states of america  business-and-commerce  \n",
       "84073  united states of america  business-and-commerce  \n",
       "84074  united states of america  business-and-commerce  \n",
       "\n",
       "[63269 rows x 5 columns]"
      ]
     },
     "execution_count": 10,
     "metadata": {},
     "output_type": "execute_result"
    }
   ],
   "source": [
    "regression_frame = author_frame.loc[:,['author_status', 'gender', 'institution', 'country', 'field']]\n",
    "regression_frame.astype('category')"
   ]
  },
  {
   "cell_type": "code",
   "execution_count": 95,
   "metadata": {},
   "outputs": [],
   "source": [
    "regression_frame = regression_frame[regression_frame['institution'] != '']\n",
    "regression_frame = regression_frame[regression_frame['gender'].isin(['boy', 'girl'])]"
   ]
  },
  {
   "cell_type": "code",
   "execution_count": 13,
   "metadata": {},
   "outputs": [
    {
     "data": {
      "text/plain": [
       "array(['boy', 'girl'], dtype=object)"
      ]
     },
     "execution_count": 13,
     "metadata": {},
     "output_type": "execute_result"
    }
   ],
   "source": [
    "import statsmodels.api as sm\n",
    "logit_model=sm.Logit(y,X)\n",
    "result=logit_model.fit()\n",
    "print(result.summary2())"
   ]
  }
 ],
 "metadata": {
  "kernelspec": {
   "display_name": "Python 3",
   "language": "python",
   "name": "python3"
  },
  "language_info": {
   "codemirror_mode": {
    "name": "ipython",
    "version": 3
   },
   "file_extension": ".py",
   "mimetype": "text/x-python",
   "name": "python",
   "nbconvert_exporter": "python",
   "pygments_lexer": "ipython3",
   "version": "3.8.5"
  }
 },
 "nbformat": 4,
 "nbformat_minor": 4
}
