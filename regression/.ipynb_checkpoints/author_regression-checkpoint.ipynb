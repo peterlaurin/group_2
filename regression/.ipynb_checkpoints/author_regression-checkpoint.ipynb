{
 "cells": [
  {
   "cell_type": "markdown",
   "metadata": {},
   "source": [
    "### Exploring gender through authorship and journal information\n",
    "Author: Peter Laurin\n",
    "This is a brief exploration into what variables we've collected, and how they might predict author gender in our data. "
   ]
  },
  {
   "cell_type": "code",
   "execution_count": 136,
   "metadata": {},
   "outputs": [],
   "source": [
    "import numpy as np\n",
    "import scipy\n",
    "import pandas as pd\n",
    "import sqlite3\n",
    "from sklearn.linear_model import LinearRegression\n",
    "from sklearn.model_selection import train_test_split\n",
    "from sklearn.metrics import mean_squared_error, r2_score\n",
    "import matplotlib.pyplot as plt"
   ]
  },
  {
   "cell_type": "code",
   "execution_count": 11,
   "metadata": {},
   "outputs": [],
   "source": [
    "import os\n",
    "os.chdir('..')"
   ]
  },
  {
   "cell_type": "markdown",
   "metadata": {},
   "source": [
    "First, to view our variables (as a pandas dataframe)"
   ]
  },
  {
   "cell_type": "code",
   "execution_count": 12,
   "metadata": {},
   "outputs": [],
   "source": [
    "conn = sqlite3.connect('journals.db')\n",
    "sql_text = 'SELECT first_name, last_name, institution, gender, country, field, rank, num_authors FROM authors JOIN papers JOIN author_key_rank ON author_key_rank.author_identifier = authors.author_identifier AND author_key_rank.paper_identifier = papers.paper_identifier;'\n",
    "author_frame = pd.read_sql_query(sql_text, conn)"
   ]
  },
  {
   "cell_type": "markdown",
   "metadata": {},
   "source": [
    "Should be set"
   ]
  },
  {
   "cell_type": "code",
   "execution_count": 6,
   "metadata": {
    "scrolled": true
   },
   "outputs": [
    {
     "data": {
      "text/html": [
       "<div>\n",
       "<style scoped>\n",
       "    .dataframe tbody tr th:only-of-type {\n",
       "        vertical-align: middle;\n",
       "    }\n",
       "\n",
       "    .dataframe tbody tr th {\n",
       "        vertical-align: top;\n",
       "    }\n",
       "\n",
       "    .dataframe thead th {\n",
       "        text-align: right;\n",
       "    }\n",
       "</style>\n",
       "<table border=\"1\" class=\"dataframe\">\n",
       "  <thead>\n",
       "    <tr style=\"text-align: right;\">\n",
       "      <th></th>\n",
       "      <th>first_name</th>\n",
       "      <th>last_name</th>\n",
       "      <th>institution</th>\n",
       "      <th>gender</th>\n",
       "      <th>country</th>\n",
       "      <th>field</th>\n",
       "      <th>rank</th>\n",
       "      <th>num_authors</th>\n",
       "    </tr>\n",
       "  </thead>\n",
       "  <tbody>\n",
       "    <tr>\n",
       "      <th>0</th>\n",
       "      <td>Diego R.</td>\n",
       "      <td>Barneche</td>\n",
       "      <td>indian ocean marine research centre</td>\n",
       "      <td>boy</td>\n",
       "      <td>australia</td>\n",
       "      <td>biological-sciences</td>\n",
       "      <td>1</td>\n",
       "      <td>7</td>\n",
       "    </tr>\n",
       "    <tr>\n",
       "      <th>1</th>\n",
       "      <td>Chris J.</td>\n",
       "      <td>Hulatt</td>\n",
       "      <td>queen mary university of london</td>\n",
       "      <td>gender neutral</td>\n",
       "      <td>uk</td>\n",
       "      <td>biological-sciences</td>\n",
       "      <td>2</td>\n",
       "      <td>7</td>\n",
       "    </tr>\n",
       "    <tr>\n",
       "      <th>2</th>\n",
       "      <td>Matteo</td>\n",
       "      <td>Dossena</td>\n",
       "      <td>queen mary university of london</td>\n",
       "      <td>boy</td>\n",
       "      <td>uk</td>\n",
       "      <td>biological-sciences</td>\n",
       "      <td>3</td>\n",
       "      <td>7</td>\n",
       "    </tr>\n",
       "    <tr>\n",
       "      <th>3</th>\n",
       "      <td>Daniel</td>\n",
       "      <td>Padfield</td>\n",
       "      <td>university of exeter</td>\n",
       "      <td>boy</td>\n",
       "      <td>uk</td>\n",
       "      <td>biological-sciences</td>\n",
       "      <td>4</td>\n",
       "      <td>7</td>\n",
       "    </tr>\n",
       "    <tr>\n",
       "      <th>4</th>\n",
       "      <td>Guy</td>\n",
       "      <td>Woodward</td>\n",
       "      <td>imperial college london</td>\n",
       "      <td>boy</td>\n",
       "      <td>uk</td>\n",
       "      <td>biological-sciences</td>\n",
       "      <td>5</td>\n",
       "      <td>7</td>\n",
       "    </tr>\n",
       "  </tbody>\n",
       "</table>\n",
       "</div>"
      ],
      "text/plain": [
       "  first_name last_name                          institution          gender  \\\n",
       "0   Diego R.  Barneche  indian ocean marine research centre             boy   \n",
       "1   Chris J.    Hulatt      queen mary university of london  gender neutral   \n",
       "2     Matteo   Dossena      queen mary university of london             boy   \n",
       "3     Daniel  Padfield                 university of exeter             boy   \n",
       "4        Guy  Woodward              imperial college london             boy   \n",
       "\n",
       "     country                field  rank  num_authors  \n",
       "0  australia  biological-sciences     1            7  \n",
       "1         uk  biological-sciences     2            7  \n",
       "2         uk  biological-sciences     3            7  \n",
       "3         uk  biological-sciences     4            7  \n",
       "4         uk  biological-sciences     5            7  "
      ]
     },
     "execution_count": 6,
     "metadata": {},
     "output_type": "execute_result"
    }
   ],
   "source": [
    "author_frame[:5]"
   ]
  },
  {
   "cell_type": "markdown",
   "metadata": {},
   "source": [
    "Now, only including authors that go to large institutions (reduces number of variables and removes low_quality data)"
   ]
  },
  {
   "cell_type": "code",
   "execution_count": 13,
   "metadata": {},
   "outputs": [],
   "source": [
    "inst_count = author_frame.groupby('institution').count().sort_values(by = 'num_authors', ascending=False).iloc[:,-1:]\n",
    "large_institutions = inst_count[inst_count['num_authors'] > 10].index"
   ]
  },
  {
   "cell_type": "code",
   "execution_count": 14,
   "metadata": {},
   "outputs": [],
   "source": [
    "author_frame = author_frame[author_frame['institution'].isin(large_institutions)]"
   ]
  },
  {
   "cell_type": "markdown",
   "metadata": {},
   "source": [
    "Got rid of about 15,000 authors, but we have a large dataset still (60,000 authors) , and this is an acceptable loss, as it would have been hard to get around issues of multicollinearity, etc. I would also filter by country having > 10 authors, but this should already be done by institution. \n",
    "\n",
    "Now to determine author ranking. We want to reduce the number of variables in rank to be a categorial variable of 'first author', 'middle_author' or 'last_author' instead of the regression interpreting it as a numerical variable with increasing author status"
   ]
  },
  {
   "cell_type": "code",
   "execution_count": 15,
   "metadata": {
    "scrolled": false
   },
   "outputs": [],
   "source": [
    "author_frame.loc[:,'author_status'] = 'middle_author'\n",
    "author_frame.loc[author_frame['rank'] == 1, 'author_status'] = 'first_author'\n",
    "author_frame.loc[author_frame['rank'] == author_frame['num_authors'], 'author_status'] = 'last_author'"
   ]
  },
  {
   "cell_type": "code",
   "execution_count": 110,
   "metadata": {
    "scrolled": true
   },
   "outputs": [],
   "source": [
    "regression_frame = author_frame.loc[:,['gender', 'institution', 'author_status', 'field', 'country']]\n",
    "regression_frame = regression_frame[regression_frame['institution'] != '']\n",
    "regression_frame = regression_frame[regression_frame['gender'].isin(['boy', 'girl'])]\n",
    "regression_frame = regression_frame.astype('category')"
   ]
  },
  {
   "cell_type": "code",
   "execution_count": 111,
   "metadata": {},
   "outputs": [],
   "source": [
    "regression_frame.loc[regression_frame['gender'] == 'boy', 'gender_bin'] = 1\n",
    "regression_frame.loc[regression_frame['gender'] == 'girl', 'gender_bin'] = 0"
   ]
  },
  {
   "cell_type": "code",
   "execution_count": 101,
   "metadata": {},
   "outputs": [],
   "source": [
    "y = regression_frame['gender_bin']\n",
    "X = regression_frame.iloc[:, 1:5]\n",
    "X = pd.get_dummies(data = X, drop_first=True)"
   ]
  },
  {
   "cell_type": "code",
   "execution_count": 122,
   "metadata": {
    "scrolled": true
   },
   "outputs": [],
   "source": [
    "def split_data(X, y):\n",
    "    X_train, X_test, y_train, y_test = train_test_split(X, y, test_size=0.2)\n",
    "    print(X_train.shape)\n",
    "    print(X_test.shape)\n",
    "    print(y_train.shape)\n",
    "    print(y_test.shape)\n",
    "    return X_train, X_test, y_train, y_test"
   ]
  },
  {
   "cell_type": "markdown",
   "metadata": {},
   "source": [
    "Ready for regression! Because this is still a rather large dataset with ~ 40,000 entries, we'll use saga to solve and elastic net to help account for both overfitting and multicollinearity between our predictive variables."
   ]
  },
  {
   "cell_type": "code",
   "execution_count": 92,
   "metadata": {},
   "outputs": [],
   "source": [
    "X_train, X_test, y_train, y_test = split_data(X, y)\n",
    "lin_model = LinearRegression()\n",
    "lin_model.fit(X_train, y_train)\n",
    "y_pred = lin_model.predict(X_test)"
   ]
  },
  {
   "cell_type": "markdown",
   "metadata": {},
   "source": [
    "Let's see how the model looks"
   ]
  },
  {
   "cell_type": "code",
   "execution_count": 94,
   "metadata": {},
   "outputs": [
    {
     "name": "stdout",
     "output_type": "stream",
     "text": [
      "6.116139238701662e+20 -2.6190322690391047e+21\n"
     ]
    }
   ],
   "source": [
    "print(mean_squared_error(y_test, y_pred), r2_score(y_test, y_pred))"
   ]
  },
  {
   "cell_type": "markdown",
   "metadata": {},
   "source": [
    "Some truly terrible numbers there. Because institution added so many variables, we might be overfitting. Let's try it again without. "
   ]
  },
  {
   "cell_type": "code",
   "execution_count": 104,
   "metadata": {},
   "outputs": [],
   "source": [
    "y = regression_frame['gender_bin']\n",
    "X = regression_frame.iloc[:, 2:5]\n",
    "X = pd.get_dummies(data = X, drop_first = True)"
   ]
  },
  {
   "cell_type": "code",
   "execution_count": 108,
   "metadata": {},
   "outputs": [
    {
     "name": "stdout",
     "output_type": "stream",
     "text": [
      "(22546, 132)\n",
      "(5637, 132)\n",
      "(22546,)\n",
      "(5637,)\n"
     ]
    }
   ],
   "source": [
    "X_train, X_test, y_train, y_test = split_data(X, y)\n",
    "lin_model_no_inst = LinearRegression()\n",
    "lin_model_no_inst.fit(X_train, y_train)\n",
    "y_pred = lin_model_no_inst.predict(X_test)"
   ]
  },
  {
   "cell_type": "code",
   "execution_count": 109,
   "metadata": {},
   "outputs": [
    {
     "name": "stdout",
     "output_type": "stream",
     "text": [
      "6.107386932387707e+22 -2.6430480936598035e+23\n"
     ]
    }
   ],
   "source": [
    "print(mean_squared_error(y_test, y_pred), r2_score(y_test, y_pred))"
   ]
  },
  {
   "cell_type": "markdown",
   "metadata": {},
   "source": [
    "No luck, maybe just with author status, and field, to be safe"
   ]
  },
  {
   "cell_type": "code",
   "execution_count": 137,
   "metadata": {},
   "outputs": [],
   "source": [
    "y = regression_frame['gender_bin']\n",
    "X = regression_frame.iloc[:, 2:4]\n",
    "X = pd.get_dummies(data = X, drop_first = True)"
   ]
  },
  {
   "cell_type": "code",
   "execution_count": 138,
   "metadata": {
    "scrolled": true
   },
   "outputs": [
    {
     "name": "stdout",
     "output_type": "stream",
     "text": [
      "(22546, 9)\n",
      "(5637, 9)\n",
      "(22546,)\n",
      "(5637,)\n"
     ]
    }
   ],
   "source": [
    "X_train, X_test, y_train, y_test = split_data(X, y)\n",
    "lin_model_min = LinearRegression()\n",
    "lin_model_min.fit(X_train, y_train)\n",
    "y_pred = lin_model_min.predict(X_test)"
   ]
  },
  {
   "cell_type": "code",
   "execution_count": 139,
   "metadata": {},
   "outputs": [
    {
     "name": "stdout",
     "output_type": "stream",
     "text": [
      "0.22366388942758628 0.018701172615155248\n"
     ]
    }
   ],
   "source": [
    "print(mean_squared_error(y_test, y_pred), r2_score(y_test, y_pred))"
   ]
  },
  {
   "cell_type": "markdown",
   "metadata": {},
   "source": [
    "While our model clearly still has some faults, we're getting closer. We'll focus on field and author status in our visualizations. Let's take a look at our predictions."
   ]
  }
 ],
 "metadata": {
  "kernelspec": {
   "display_name": "Python 3",
   "language": "python",
   "name": "python3"
  },
  "language_info": {
   "codemirror_mode": {
    "name": "ipython",
    "version": 3
   },
   "file_extension": ".py",
   "mimetype": "text/x-python",
   "name": "python",
   "nbconvert_exporter": "python",
   "pygments_lexer": "ipython3",
   "version": "3.8.5"
  }
 },
 "nbformat": 4,
 "nbformat_minor": 4
}
